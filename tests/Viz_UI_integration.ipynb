{
 "cells": [
  {
   "cell_type": "code",
   "execution_count": 1,
   "metadata": {},
   "outputs": [],
   "source": [
    "import sys, os\n",
    "sys.path.append(os.path.abspath('..')) # add path"
   ]
  },
  {
   "cell_type": "code",
   "execution_count": 2,
   "metadata": {},
   "outputs": [],
   "source": [
    "from utils.VizSelector import VizSelector"
   ]
  },
  {
   "cell_type": "markdown",
   "metadata": {},
   "source": [
    "## Dataset"
   ]
  },
  {
   "cell_type": "code",
   "execution_count": 3,
   "metadata": {},
   "outputs": [
    {
     "data": {
      "text/html": [
       "<div>\n",
       "<style scoped>\n",
       "    .dataframe tbody tr th:only-of-type {\n",
       "        vertical-align: middle;\n",
       "    }\n",
       "\n",
       "    .dataframe tbody tr th {\n",
       "        vertical-align: top;\n",
       "    }\n",
       "\n",
       "    .dataframe thead th {\n",
       "        text-align: right;\n",
       "    }\n",
       "</style>\n",
       "<table border=\"1\" class=\"dataframe\">\n",
       "  <thead>\n",
       "    <tr style=\"text-align: right;\">\n",
       "      <th></th>\n",
       "      <th>MedInc</th>\n",
       "      <th>HouseAge</th>\n",
       "      <th>AveRooms</th>\n",
       "      <th>AveBedrms</th>\n",
       "      <th>Population</th>\n",
       "      <th>AveOccup</th>\n",
       "      <th>Latitude</th>\n",
       "      <th>Longitude</th>\n",
       "    </tr>\n",
       "  </thead>\n",
       "  <tbody>\n",
       "    <tr>\n",
       "      <th>0</th>\n",
       "      <td>8.3252</td>\n",
       "      <td>41.0</td>\n",
       "      <td>6.984127</td>\n",
       "      <td>1.023810</td>\n",
       "      <td>322.0</td>\n",
       "      <td>2.555556</td>\n",
       "      <td>37.88</td>\n",
       "      <td>-122.23</td>\n",
       "    </tr>\n",
       "    <tr>\n",
       "      <th>1</th>\n",
       "      <td>8.3014</td>\n",
       "      <td>21.0</td>\n",
       "      <td>6.238137</td>\n",
       "      <td>0.971880</td>\n",
       "      <td>2401.0</td>\n",
       "      <td>2.109842</td>\n",
       "      <td>37.86</td>\n",
       "      <td>-122.22</td>\n",
       "    </tr>\n",
       "    <tr>\n",
       "      <th>2</th>\n",
       "      <td>7.2574</td>\n",
       "      <td>52.0</td>\n",
       "      <td>8.288136</td>\n",
       "      <td>1.073446</td>\n",
       "      <td>496.0</td>\n",
       "      <td>2.802260</td>\n",
       "      <td>37.85</td>\n",
       "      <td>-122.24</td>\n",
       "    </tr>\n",
       "    <tr>\n",
       "      <th>3</th>\n",
       "      <td>5.6431</td>\n",
       "      <td>52.0</td>\n",
       "      <td>5.817352</td>\n",
       "      <td>1.073059</td>\n",
       "      <td>558.0</td>\n",
       "      <td>2.547945</td>\n",
       "      <td>37.85</td>\n",
       "      <td>-122.25</td>\n",
       "    </tr>\n",
       "    <tr>\n",
       "      <th>4</th>\n",
       "      <td>3.8462</td>\n",
       "      <td>52.0</td>\n",
       "      <td>6.281853</td>\n",
       "      <td>1.081081</td>\n",
       "      <td>565.0</td>\n",
       "      <td>2.181467</td>\n",
       "      <td>37.85</td>\n",
       "      <td>-122.25</td>\n",
       "    </tr>\n",
       "  </tbody>\n",
       "</table>\n",
       "</div>"
      ],
      "text/plain": [
       "   MedInc  HouseAge  AveRooms  AveBedrms  Population  AveOccup  Latitude  \\\n",
       "0  8.3252      41.0  6.984127   1.023810       322.0  2.555556     37.88   \n",
       "1  8.3014      21.0  6.238137   0.971880      2401.0  2.109842     37.86   \n",
       "2  7.2574      52.0  8.288136   1.073446       496.0  2.802260     37.85   \n",
       "3  5.6431      52.0  5.817352   1.073059       558.0  2.547945     37.85   \n",
       "4  3.8462      52.0  6.281853   1.081081       565.0  2.181467     37.85   \n",
       "\n",
       "   Longitude  \n",
       "0    -122.23  \n",
       "1    -122.22  \n",
       "2    -122.24  \n",
       "3    -122.25  \n",
       "4    -122.25  "
      ]
     },
     "execution_count": 3,
     "metadata": {},
     "output_type": "execute_result"
    }
   ],
   "source": [
    "from sklearn.datasets import fetch_california_housing\n",
    "\n",
    "housing = fetch_california_housing(return_X_y=True, as_frame=True)[0]\n",
    "housing.head()"
   ]
  },
  {
   "cell_type": "markdown",
   "metadata": {},
   "source": [
    "# Selection "
   ]
  },
  {
   "cell_type": "code",
   "execution_count": 4,
   "metadata": {},
   "outputs": [],
   "source": [
    "import pandas as pd\n",
    "from IPython.display import display\n",
    "from ipywidgets import widgets, VBox, HTML"
   ]
  },
  {
   "cell_type": "markdown",
   "metadata": {},
   "source": [
    "## Column Selection"
   ]
  },
  {
   "cell_type": "code",
   "execution_count": 5,
   "metadata": {},
   "outputs": [],
   "source": [
    "# # Sample DataFrame\n",
    "# data = {\n",
    "#     'Name': ['Alice', 'Bob', 'Charlie', 'David'],\n",
    "#     'Age': [25, 30, 35, 40],\n",
    "#     'City': ['New York', 'Los Angeles', 'Chicago', 'Houston']\n",
    "# }\n",
    "\n",
    "# df = pd.DataFrame(data)\n",
    "\n",
    "# Global variables to store selected columns\n",
    "selected_columns = {\"Column 1\": None, \"Column 2\": None}\n",
    "\n",
    "# Function to render the DataFrame with column selection\n",
    "def render_dataframe_with_column_selection(df):\n",
    "    global selected_columns\n",
    "    \n",
    "    # Create dropdown widgets for column selection\n",
    "    dropdown1 = widgets.Dropdown(\n",
    "        options=tuple(df.columns),\n",
    "        value=df.columns[0],\n",
    "        description='Column 1',\n",
    "        disabled=False\n",
    "    )\n",
    "    \n",
    "    dropdown2 = widgets.Dropdown(\n",
    "        options=tuple(df.columns),\n",
    "        value=df.columns[1],\n",
    "        description='Column 2',\n",
    "        disabled=False\n",
    "    )\n",
    "    \n",
    "    # Create a button to generate the selected columns\n",
    "    button = widgets.Button(description=\"Generate\")\n",
    "    \n",
    "    # Output widget to display the selected columns\n",
    "    output = widgets.Output()\n",
    "    \n",
    "    # Convert the DataFrame to an HTML table\n",
    "    html_df = df.to_html(index=False, classes='dataframe', border=0)\n",
    "\n",
    "    # Define the CSS for table alignment\n",
    "    css = \"\"\"\n",
    "    <style>\n",
    "    .dataframe {\n",
    "        border-collapse: collapse;\n",
    "        width: 100%;\n",
    "    }\n",
    "    .dataframe th, .dataframe td {\n",
    "        border: 1px solid #ddd;\n",
    "        padding: 8px;\n",
    "    }\n",
    "    .dataframe th {\n",
    "        background-color: #f2f2f2;\n",
    "        text-align: center;\n",
    "    }\n",
    "    </style>\n",
    "    \"\"\"\n",
    "    \n",
    "    # Combine CSS and HTML table\n",
    "    html_content = widgets.HTML(value=css + html_df)\n",
    "    \n",
    "    # Function to handle button click event\n",
    "    def on_button_click(b):\n",
    "        global selected_columns\n",
    "        selected_columns[\"Column 1\"] = dropdown1.value\n",
    "        selected_columns[\"Column 2\"] = dropdown2.value\n",
    "        output.clear_output()\n",
    "        with output:\n",
    "            display(f\"Selected columns: {selected_columns}\")\n",
    "    \n",
    "    # Bind the button click event to the function\n",
    "    button.on_click(on_button_click)\n",
    "    \n",
    "    # Display the dropdowns, HTML table (as a widget), button, and output\n",
    "    display(VBox([dropdown1, dropdown2, html_content, button, output]))"
   ]
  },
  {
   "cell_type": "markdown",
   "metadata": {},
   "source": [
    "## Plot selection"
   ]
  },
  {
   "cell_type": "code",
   "execution_count": 15,
   "metadata": {},
   "outputs": [],
   "source": [
    "# Global variables to store selected columns\n",
    "selected_plot = None\n",
    "\n",
    "# Function to render the DataFrame with column selection\n",
    "def render_dataframe_with_column_selection(df):\n",
    "    global selected_plot\n",
    "    \n",
    "    drop_down_options = (\"hist\", \"scatter\")\n",
    "    selected_plot = drop_down_options[0]\n",
    "    # Create dropdown widgets for column selection\n",
    "    dropdown = widgets.Dropdown(\n",
    "        options=drop_down_options,\n",
    "        value=\"hist\",\n",
    "        description='plot type',\n",
    "        disabled=False\n",
    "    )\n",
    "    \n",
    "    # Create a button to generate the selected columns\n",
    "    button = widgets.Button(description=\"Generate\")\n",
    "    \n",
    "    # Output widget to display the selected columns\n",
    "    output = widgets.Output()\n",
    "    \n",
    "    # Convert the DataFrame to an HTML table\n",
    "    html_df = df.to_html(index=False, classes='dataframe', border=0)\n",
    "\n",
    "    # Define the CSS for table alignment\n",
    "    css = \"\"\"\n",
    "    <style>\n",
    "    .dataframe {\n",
    "        border-collapse: collapse;\n",
    "        width: 100%;\n",
    "    }\n",
    "    .dataframe th, .dataframe td {\n",
    "        border: 1px solid #ddd;\n",
    "        padding: 8px;\n",
    "    }\n",
    "    .dataframe th {\n",
    "        background-color: #f2f2f2;\n",
    "        text-align: center;\n",
    "    }\n",
    "    </style>\n",
    "    \"\"\"\n",
    "    \n",
    "    # Combine CSS and HTML table\n",
    "    html_content = widgets.HTML(value=css + html_df)\n",
    "    \n",
    "    # Function to handle button click event\n",
    "    def on_button_click(b):\n",
    "        global selected_plot\n",
    "        selected_plot = dropdown.value\n",
    "        output.clear_output()\n",
    "        # with output:\n",
    "            # display(f\"Selected Plot: {selected_plot}\")\n",
    "    \n",
    "    # Bind the button click event to the function\n",
    "    button.on_click(on_button_click)\n",
    "    \n",
    "    \n",
    "    # Display the dropdowns, HTML table (as a widget), button, and output\n",
    "    display(VBox([dropdown, html_content, button, output]))"
   ]
  },
  {
   "cell_type": "code",
   "execution_count": 16,
   "metadata": {},
   "outputs": [
    {
     "data": {
      "application/vnd.jupyter.widget-view+json": {
       "model_id": "f5e8028d73524a65af8405a8390a35e2",
       "version_major": 2,
       "version_minor": 0
      },
      "text/plain": [
       "VBox(children=(Dropdown(description='plot type', options=('hist', 'scatter'), value='hist'), HTML(value='\\n   …"
      ]
     },
     "metadata": {},
     "output_type": "display_data"
    }
   ],
   "source": [
    "# Call the function to display the DataFrame with column selection\n",
    "render_dataframe_with_column_selection(housing.head())"
   ]
  },
  {
   "cell_type": "code",
   "execution_count": 20,
   "metadata": {},
   "outputs": [
    {
     "data": {
      "text/plain": [
       "'scatter'"
      ]
     },
     "execution_count": 20,
     "metadata": {},
     "output_type": "execute_result"
    }
   ],
   "source": [
    "selected_plot"
   ]
  },
  {
   "cell_type": "code",
   "execution_count": 21,
   "metadata": {},
   "outputs": [
    {
     "data": {
      "image/png": "[encoded data removed]",
      "text/plain": [
       "<Figure size 2000x400 with 5 Axes>"
      ]
     },
     "metadata": {},
     "output_type": "display_data"
    }
   ],
   "source": [
    "obj = VizSelector.create(housing, selected_plot)\n",
    "top5 = obj.rank5()\n",
    "list(map(lambda x: x.get_params()[\"feature\"], obj.rank5()))\n",
    "obj.plt()"
   ]
  },
  {
   "cell_type": "code",
   "execution_count": null,
   "metadata": {},
   "outputs": [],
   "source": []
  }
 ],
 "metadata": {
  "kernelspec": {
   "display_name": ".venv",
   "language": "python",
   "name": "python3"
  },
  "language_info": {
   "codemirror_mode": {
    "name": "ipython",
    "version": 3
   },
   "file_extension": ".py",
   "mimetype": "text/x-python",
   "name": "python",
   "nbconvert_exporter": "python",
   "pygments_lexer": "ipython3",
   "version": "3.10.12"
  }
 },
 "nbformat": 4,
 "nbformat_minor": 2
}
