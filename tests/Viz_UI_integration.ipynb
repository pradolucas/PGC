{
 "cells": [
  {
   "cell_type": "code",
   "execution_count": 3,
   "metadata": {},
   "outputs": [],
   "source": [
    "from utils.VizSelector import VizSelector"
   ]
  },
  {
   "cell_type": "markdown",
   "metadata": {},
   "source": [
    "## Dataset"
   ]
  },
  {
   "cell_type": "code",
   "execution_count": 4,
   "metadata": {},
   "outputs": [
    {
     "data": {
      "text/html": [
       "<div>\n",
       "<style scoped>\n",
       "    .dataframe tbody tr th:only-of-type {\n",
       "        vertical-align: middle;\n",
       "    }\n",
       "\n",
       "    .dataframe tbody tr th {\n",
       "        vertical-align: top;\n",
       "    }\n",
       "\n",
       "    .dataframe thead th {\n",
       "        text-align: right;\n",
       "    }\n",
       "</style>\n",
       "<table border=\"1\" class=\"dataframe\">\n",
       "  <thead>\n",
       "    <tr style=\"text-align: right;\">\n",
       "      <th></th>\n",
       "      <th>MedInc</th>\n",
       "      <th>HouseAge</th>\n",
       "      <th>AveRooms</th>\n",
       "      <th>AveBedrms</th>\n",
       "      <th>Population</th>\n",
       "      <th>AveOccup</th>\n",
       "      <th>Latitude</th>\n",
       "      <th>Longitude</th>\n",
       "    </tr>\n",
       "  </thead>\n",
       "  <tbody>\n",
       "    <tr>\n",
       "      <th>0</th>\n",
       "      <td>8.3252</td>\n",
       "      <td>41.0</td>\n",
       "      <td>6.984127</td>\n",
       "      <td>1.023810</td>\n",
       "      <td>322.0</td>\n",
       "      <td>2.555556</td>\n",
       "      <td>37.88</td>\n",
       "      <td>-122.23</td>\n",
       "    </tr>\n",
       "    <tr>\n",
       "      <th>1</th>\n",
       "      <td>8.3014</td>\n",
       "      <td>21.0</td>\n",
       "      <td>6.238137</td>\n",
       "      <td>0.971880</td>\n",
       "      <td>2401.0</td>\n",
       "      <td>2.109842</td>\n",
       "      <td>37.86</td>\n",
       "      <td>-122.22</td>\n",
       "    </tr>\n",
       "    <tr>\n",
       "      <th>2</th>\n",
       "      <td>7.2574</td>\n",
       "      <td>52.0</td>\n",
       "      <td>8.288136</td>\n",
       "      <td>1.073446</td>\n",
       "      <td>496.0</td>\n",
       "      <td>2.802260</td>\n",
       "      <td>37.85</td>\n",
       "      <td>-122.24</td>\n",
       "    </tr>\n",
       "    <tr>\n",
       "      <th>3</th>\n",
       "      <td>5.6431</td>\n",
       "      <td>52.0</td>\n",
       "      <td>5.817352</td>\n",
       "      <td>1.073059</td>\n",
       "      <td>558.0</td>\n",
       "      <td>2.547945</td>\n",
       "      <td>37.85</td>\n",
       "      <td>-122.25</td>\n",
       "    </tr>\n",
       "    <tr>\n",
       "      <th>4</th>\n",
       "      <td>3.8462</td>\n",
       "      <td>52.0</td>\n",
       "      <td>6.281853</td>\n",
       "      <td>1.081081</td>\n",
       "      <td>565.0</td>\n",
       "      <td>2.181467</td>\n",
       "      <td>37.85</td>\n",
       "      <td>-122.25</td>\n",
       "    </tr>\n",
       "  </tbody>\n",
       "</table>\n",
       "</div>"
      ],
      "text/plain": [
       "   MedInc  HouseAge  AveRooms  AveBedrms  Population  AveOccup  Latitude  \\\n",
       "0  8.3252      41.0  6.984127   1.023810       322.0  2.555556     37.88   \n",
       "1  8.3014      21.0  6.238137   0.971880      2401.0  2.109842     37.86   \n",
       "2  7.2574      52.0  8.288136   1.073446       496.0  2.802260     37.85   \n",
       "3  5.6431      52.0  5.817352   1.073059       558.0  2.547945     37.85   \n",
       "4  3.8462      52.0  6.281853   1.081081       565.0  2.181467     37.85   \n",
       "\n",
       "   Longitude  \n",
       "0    -122.23  \n",
       "1    -122.22  \n",
       "2    -122.24  \n",
       "3    -122.25  \n",
       "4    -122.25  "
      ]
     },
     "execution_count": 4,
     "metadata": {},
     "output_type": "execute_result"
    }
   ],
   "source": [
    "from sklearn.datasets import fetch_california_housing\n",
    "\n",
    "housing = fetch_california_housing(return_X_y=True, as_frame=True)[0]\n",
    "housing.head()"
   ]
  },
  {
   "cell_type": "markdown",
   "metadata": {},
   "source": [
    "# Selection "
   ]
  },
  {
   "cell_type": "code",
   "execution_count": 5,
   "metadata": {},
   "outputs": [],
   "source": [
    "import pandas as pd\n",
    "from IPython.display import display\n",
    "from ipywidgets import widgets, VBox, HTML"
   ]
  },
  {
   "cell_type": "markdown",
   "metadata": {},
   "source": [
    "## Column Selection"
   ]
  },
  {
   "cell_type": "code",
   "execution_count": 6,
   "metadata": {},
   "outputs": [],
   "source": [
    "# # Sample DataFrame\n",
    "# data = {\n",
    "#     'Name': ['Alice', 'Bob', 'Charlie', 'David'],\n",
    "#     'Age': [25, 30, 35, 40],\n",
    "#     'City': ['New York', 'Los Angeles', 'Chicago', 'Houston']\n",
    "# }\n",
    "\n",
    "# df = pd.DataFrame(data)\n",
    "\n",
    "# Global variables to store selected columns\n",
    "selected_columns = {\"Column 1\": None, \"Column 2\": None}\n",
    "\n",
    "# Function to render the DataFrame with column selection\n",
    "def render_dataframe_with_column_selection(df):\n",
    "    global selected_columns\n",
    "    \n",
    "    # Create dropdown widgets for column selection\n",
    "    dropdown1 = widgets.Dropdown(\n",
    "        options=tuple(df.columns),\n",
    "        value=df.columns[0],\n",
    "        description='Column 1',\n",
    "        disabled=False\n",
    "    )\n",
    "    \n",
    "    dropdown2 = widgets.Dropdown(\n",
    "        options=tuple(df.columns),\n",
    "        value=df.columns[1],\n",
    "        description='Column 2',\n",
    "        disabled=False\n",
    "    )\n",
    "    \n",
    "    # Create a button to generate the selected columns\n",
    "    button = widgets.Button(description=\"Generate\")\n",
    "    \n",
    "    # Output widget to display the selected columns\n",
    "    output = widgets.Output()\n",
    "    \n",
    "    # Convert the DataFrame to an HTML table\n",
    "    html_df = df.to_html(index=False, classes='dataframe', border=0)\n",
    "\n",
    "    # Define the CSS for table alignment\n",
    "    css = \"\"\"\n",
    "    <style>\n",
    "    .dataframe {\n",
    "        border-collapse: collapse;\n",
    "        width: 100%;\n",
    "    }\n",
    "    .dataframe th, .dataframe td {\n",
    "        border: 1px solid #ddd;\n",
    "        padding: 8px;\n",
    "    }\n",
    "    .dataframe th {\n",
    "        background-color: #f2f2f2;\n",
    "        text-align: center;\n",
    "    }\n",
    "    </style>\n",
    "    \"\"\"\n",
    "    \n",
    "    # Combine CSS and HTML table\n",
    "    html_content = widgets.HTML(value=css + html_df)\n",
    "    \n",
    "    # Function to handle button click event\n",
    "    def on_button_click(b):\n",
    "        global selected_columns\n",
    "        selected_columns[\"Column 1\"] = dropdown1.value\n",
    "        selected_columns[\"Column 2\"] = dropdown2.value\n",
    "        output.clear_output()\n",
    "        with output:\n",
    "            display(f\"Selected columns: {selected_columns}\")\n",
    "    \n",
    "    # Bind the button click event to the function\n",
    "    button.on_click(on_button_click)\n",
    "    \n",
    "    # Display the dropdowns, HTML table (as a widget), button, and output\n",
    "    display(VBox([dropdown1, dropdown2, html_content, button, output]))"
   ]
  },
  {
   "cell_type": "markdown",
   "metadata": {},
   "source": [
    "## Plot selection"
   ]
  },
  {
   "cell_type": "code",
   "execution_count": 16,
   "metadata": {},
   "outputs": [],
   "source": [
    "# Global variables to store selected columns\n",
    "selected_plot = None\n",
    "\n",
    "# Function to render the DataFrame with column selection\n",
    "def render_dataframe_with_column_selection(df):\n",
    "    global selected_plot\n",
    "    \n",
    "    drop_down_options = (\"hist\", \"scatter\")\n",
    "    selected_plot = drop_down_options[0]\n",
    "    # Create dropdown widgets for column selection\n",
    "    dropdown = widgets.Dropdown(\n",
    "        options=drop_down_options,\n",
    "        value=\"hist\",\n",
    "        description='plot type',\n",
    "        disabled=False\n",
    "    )\n",
    "    \n",
    "    # Create a button to generate the selected columns\n",
    "    button = widgets.Button(description=\"Generate\")\n",
    "    \n",
    "    # Output widget to display the selected columns\n",
    "    output = widgets.Output()\n",
    "    \n",
    "    # Convert the DataFrame to an HTML table\n",
    "    html_df = df.to_html(index=False, classes='dataframe', border=0)\n",
    "\n",
    "    # Define the CSS for table alignment\n",
    "    css = \"\"\"\n",
    "    <style>\n",
    "    .dataframe {\n",
    "        border-collapse: collapse;\n",
    "        width: 100%;\n",
    "    }\n",
    "    .dataframe th, .dataframe td {\n",
    "        border: 1px solid #ddd;\n",
    "        padding: 8px;\n",
    "    }\n",
    "    .dataframe th {\n",
    "        background-color: #f2f2f2;\n",
    "        text-align: center;\n",
    "    }\n",
    "    </style>\n",
    "    \"\"\"\n",
    "    \n",
    "    # Combine CSS and HTML table\n",
    "    html_content = widgets.HTML(value=css + html_df)\n",
    "    \n",
    "    # Function to handle button click event\n",
    "    def on_button_click(b):\n",
    "        global selected_plot\n",
    "        selected_plot = dropdown.value\n",
    "        output.clear_output()\n",
    "        with output:\n",
    "            display(f\"Selected Plot: {selected_plot}\")\n",
    "    \n",
    "    # Bind the button click event to the function\n",
    "    button.on_click(on_button_click)\n",
    "    \n",
    "    \n",
    "    # Display the dropdowns, HTML table (as a widget), button, and output\n",
    "    display(VBox([dropdown, html_content, button, output]))"
   ]
  },
  {
   "cell_type": "code",
   "execution_count": 17,
   "metadata": {},
   "outputs": [
    {
     "data": {
      "application/vnd.jupyter.widget-view+json": {
       "model_id": "7f36e24291234be490df2fea3f6be079",
       "version_major": 2,
       "version_minor": 0
      },
      "text/plain": [
       "VBox(children=(Dropdown(description='plot type', options=('hist', 'scatter'), value='hist'), HTML(value='\\n   …"
      ]
     },
     "metadata": {},
     "output_type": "display_data"
    }
   ],
   "source": [
    "# Call the function to display the DataFrame with column selection\n",
    "render_dataframe_with_column_selection(housing.head())"
   ]
  },
  {
   "cell_type": "code",
   "execution_count": 18,
   "metadata": {},
   "outputs": [
    {
     "data": {
      "text/plain": [
       "'hist'"
      ]
     },
     "execution_count": 18,
     "metadata": {},
     "output_type": "execute_result"
    }
   ],
   "source": [
    "selected_plot"
   ]
  },
  {
   "cell_type": "code",
   "execution_count": 19,
   "metadata": {},
   "outputs": [
    {
     "ename": "TypeError",
     "evalue": "Viz.__init__() missing 1 required positional argument: 'y'",
     "output_type": "error",
     "traceback": [
      "\u001b[0;31m---------------------------------------------------------------------------\u001b[0m",
      "\u001b[0;31mTypeError\u001b[0m                                 Traceback (most recent call last)",
      "Cell \u001b[0;32mIn[19], line 1\u001b[0m\n\u001b[0;32m----> 1\u001b[0m obj \u001b[38;5;241m=\u001b[39m \u001b[43mVizSelector\u001b[49m\u001b[43m(\u001b[49m\u001b[43mhousing\u001b[49m\u001b[43m,\u001b[49m\u001b[43m \u001b[49m\u001b[43mselected_plot\u001b[49m\u001b[43m)\u001b[49m\n",
      "File \u001b[0;32m/mnt/c/Users/Lucas/Documents/Trabalho-Estudo-Faculdade/TCC/Scripts/utils/VizSelector.py:15\u001b[0m, in \u001b[0;36mVizSelector.__init__\u001b[0;34m(self, df, viz_type)\u001b[0m\n\u001b[1;32m     13\u001b[0m \u001b[38;5;28;01mif\u001b[39;00m(dim \u001b[38;5;241m==\u001b[39m \u001b[38;5;124m'\u001b[39m\u001b[38;5;124m1D\u001b[39m\u001b[38;5;124m'\u001b[39m):\n\u001b[1;32m     14\u001b[0m     \u001b[38;5;28;01mfor\u001b[39;00m _, data \u001b[38;5;129;01min\u001b[39;00m df\u001b[38;5;241m.\u001b[39mitems():\n\u001b[0;32m---> 15\u001b[0m         \u001b[38;5;28mself\u001b[39m\u001b[38;5;241m.\u001b[39mvizs\u001b[38;5;241m.\u001b[39mappend(\u001b[43mviz_model\u001b[49m\u001b[43m(\u001b[49m\u001b[43mdata\u001b[49m\u001b[43m)\u001b[49m)\n\u001b[1;32m     16\u001b[0m \u001b[38;5;28;01melse\u001b[39;00m:\n\u001b[1;32m     17\u001b[0m     column_pairs \u001b[38;5;241m=\u001b[39m combinations(df\u001b[38;5;241m.\u001b[39mcolumns, \u001b[38;5;241m2\u001b[39m)\n",
      "File \u001b[0;32m/mnt/c/Users/Lucas/Documents/Trabalho-Estudo-Faculdade/TCC/Scripts/utils/plots.py:16\u001b[0m, in \u001b[0;36mHistogram.__init__\u001b[0;34m(self, column_data)\u001b[0m\n\u001b[1;32m     14\u001b[0m \u001b[38;5;28mself\u001b[39m\u001b[38;5;241m.\u001b[39mdata_len \u001b[38;5;241m=\u001b[39m \u001b[38;5;28mlen\u001b[39m(column_data)\n\u001b[1;32m     15\u001b[0m \u001b[38;5;28mself\u001b[39m\u001b[38;5;241m.\u001b[39mfrequency, \u001b[38;5;28mself\u001b[39m\u001b[38;5;241m.\u001b[39mbins \u001b[38;5;241m=\u001b[39m np\u001b[38;5;241m.\u001b[39mhistogram(column_data, bins\u001b[38;5;241m=\u001b[39m\u001b[38;5;241m10\u001b[39m, \u001b[38;5;28mrange\u001b[39m\u001b[38;5;241m=\u001b[39m[(column_data\u001b[38;5;241m.\u001b[39mmin() \u001b[38;5;28;01mif\u001b[39;00m column_data\u001b[38;5;241m.\u001b[39mmin() \u001b[38;5;241m<\u001b[39m \u001b[38;5;241m0\u001b[39m \u001b[38;5;28;01melse\u001b[39;00m \u001b[38;5;241m0\u001b[39m ), column_data\u001b[38;5;241m.\u001b[39mmax()], density\u001b[38;5;241m=\u001b[39m\u001b[38;5;28;01mFalse\u001b[39;00m)\n\u001b[0;32m---> 16\u001b[0m \u001b[38;5;28;43msuper\u001b[39;49m\u001b[43m(\u001b[49m\u001b[43m)\u001b[49m\u001b[38;5;241;43m.\u001b[39;49m\u001b[38;5;21;43m__init__\u001b[39;49m\u001b[43m(\u001b[49m\u001b[43mcolumn_data\u001b[49m\u001b[43m)\u001b[49m\n",
      "\u001b[0;31mTypeError\u001b[0m: Viz.__init__() missing 1 required positional argument: 'y'"
     ]
    }
   ],
   "source": [
    "obj = VizSelector(housing, selected_plot)"
   ]
  },
  {
   "cell_type": "code",
   "execution_count": 14,
   "metadata": {},
   "outputs": [
    {
     "data": {
      "text/plain": [
       "[PearsonRResult(statistic=np.float64(0.8476213257130452), pvalue=np.float64(0.0)),\n",
       " PearsonRResult(statistic=np.float64(0.3268954316412956), pvalue=np.float64(0.0)),\n",
       " PearsonRResult(statistic=np.float64(0.10638896548625519), pvalue=np.float64(5.040226653302828e-53)),\n",
       " PearsonRResult(statistic=np.float64(0.0997732228746456), pvalue=np.float64(8.094076049876738e-47)),\n",
       " PearsonRResult(statistic=np.float64(0.06986273036567668), pvalue=np.float64(9.319165723256792e-24))]"
      ]
     },
     "execution_count": 14,
     "metadata": {},
     "output_type": "execute_result"
    }
   ],
   "source": [
    "top5 = obj.rank5()\n",
    "# obj.rank()\n",
    "list(map(lambda x: x.get_params()[\"feature\"], obj.rank5()))"
   ]
  },
  {
   "cell_type": "code",
   "execution_count": 15,
   "metadata": {},
   "outputs": [
    {
     "data": {
      "image/png": "[encoded data removed]",
      "text/plain": [
       "<Figure size 2000x400 with 5 Axes>"
      ]
     },
     "metadata": {},
     "output_type": "display_data"
    }
   ],
   "source": [
    "obj.plt()"
   ]
  },
  {
   "cell_type": "code",
   "execution_count": null,
   "metadata": {},
   "outputs": [],
   "source": []
  }
 ],
 "metadata": {
  "kernelspec": {
   "display_name": ".venv",
   "language": "python",
   "name": "python3"
  },
  "language_info": {
   "codemirror_mode": {
    "name": "ipython",
    "version": 3
   },
   "file_extension": ".py",
   "mimetype": "text/x-python",
   "name": "python",
   "nbconvert_exporter": "python",
   "pygments_lexer": "ipython3",
   "version": "3.10.12"
  }
 },
 "nbformat": 4,
 "nbformat_minor": 2
}
