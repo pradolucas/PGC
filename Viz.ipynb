{
 "cells": [
  {
   "cell_type": "markdown",
   "id": "60c14ff5-a547-4c8c-b78f-fa35ed3d1cc4",
   "metadata": {},
   "source": [
    "# Datasets"
   ]
  },
  {
   "cell_type": "code",
   "execution_count": 1,
   "id": "92951d80-2cdd-4dfb-baa6-73561e520c5a",
   "metadata": {
    "scrolled": true
   },
   "outputs": [],
   "source": [
    "from sklearn.datasets import load_iris, fetch_california_housing, load_diabetes\n",
    "\n",
    "iris = load_iris(return_X_y=True, as_frame=True)[0]\n",
    "housing = fetch_california_housing(return_X_y=True, as_frame=True)[0]\n",
    "diabetes = load_diabetes(return_X_y=True, as_frame=True)[0]"
   ]
  },
  {
   "cell_type": "code",
   "execution_count": 2,
   "id": "91b582e9-bda0-4b93-a291-7cba42f8f6da",
   "metadata": {},
   "outputs": [
    {
     "data": {
      "text/html": [
       "<div>\n",
       "<style scoped>\n",
       "    .dataframe tbody tr th:only-of-type {\n",
       "        vertical-align: middle;\n",
       "    }\n",
       "\n",
       "    .dataframe tbody tr th {\n",
       "        vertical-align: top;\n",
       "    }\n",
       "\n",
       "    .dataframe thead th {\n",
       "        text-align: right;\n",
       "    }\n",
       "</style>\n",
       "<table border=\"1\" class=\"dataframe\">\n",
       "  <thead>\n",
       "    <tr style=\"text-align: right;\">\n",
       "      <th></th>\n",
       "      <th>sepal length (cm)</th>\n",
       "      <th>sepal width (cm)</th>\n",
       "      <th>petal length (cm)</th>\n",
       "      <th>petal width (cm)</th>\n",
       "    </tr>\n",
       "  </thead>\n",
       "  <tbody>\n",
       "    <tr>\n",
       "      <th>0</th>\n",
       "      <td>5.1</td>\n",
       "      <td>3.5</td>\n",
       "      <td>1.4</td>\n",
       "      <td>0.2</td>\n",
       "    </tr>\n",
       "    <tr>\n",
       "      <th>1</th>\n",
       "      <td>4.9</td>\n",
       "      <td>3.0</td>\n",
       "      <td>1.4</td>\n",
       "      <td>0.2</td>\n",
       "    </tr>\n",
       "    <tr>\n",
       "      <th>2</th>\n",
       "      <td>4.7</td>\n",
       "      <td>3.2</td>\n",
       "      <td>1.3</td>\n",
       "      <td>0.2</td>\n",
       "    </tr>\n",
       "    <tr>\n",
       "      <th>3</th>\n",
       "      <td>4.6</td>\n",
       "      <td>3.1</td>\n",
       "      <td>1.5</td>\n",
       "      <td>0.2</td>\n",
       "    </tr>\n",
       "    <tr>\n",
       "      <th>4</th>\n",
       "      <td>5.0</td>\n",
       "      <td>3.6</td>\n",
       "      <td>1.4</td>\n",
       "      <td>0.2</td>\n",
       "    </tr>\n",
       "    <tr>\n",
       "      <th>...</th>\n",
       "      <td>...</td>\n",
       "      <td>...</td>\n",
       "      <td>...</td>\n",
       "      <td>...</td>\n",
       "    </tr>\n",
       "    <tr>\n",
       "      <th>145</th>\n",
       "      <td>6.7</td>\n",
       "      <td>3.0</td>\n",
       "      <td>5.2</td>\n",
       "      <td>2.3</td>\n",
       "    </tr>\n",
       "    <tr>\n",
       "      <th>146</th>\n",
       "      <td>6.3</td>\n",
       "      <td>2.5</td>\n",
       "      <td>5.0</td>\n",
       "      <td>1.9</td>\n",
       "    </tr>\n",
       "    <tr>\n",
       "      <th>147</th>\n",
       "      <td>6.5</td>\n",
       "      <td>3.0</td>\n",
       "      <td>5.2</td>\n",
       "      <td>2.0</td>\n",
       "    </tr>\n",
       "    <tr>\n",
       "      <th>148</th>\n",
       "      <td>6.2</td>\n",
       "      <td>3.4</td>\n",
       "      <td>5.4</td>\n",
       "      <td>2.3</td>\n",
       "    </tr>\n",
       "    <tr>\n",
       "      <th>149</th>\n",
       "      <td>5.9</td>\n",
       "      <td>3.0</td>\n",
       "      <td>5.1</td>\n",
       "      <td>1.8</td>\n",
       "    </tr>\n",
       "  </tbody>\n",
       "</table>\n",
       "<p>150 rows × 4 columns</p>\n",
       "</div>"
      ],
      "text/plain": [
       "     sepal length (cm)  sepal width (cm)  petal length (cm)  petal width (cm)\n",
       "0                  5.1               3.5                1.4               0.2\n",
       "1                  4.9               3.0                1.4               0.2\n",
       "2                  4.7               3.2                1.3               0.2\n",
       "3                  4.6               3.1                1.5               0.2\n",
       "4                  5.0               3.6                1.4               0.2\n",
       "..                 ...               ...                ...               ...\n",
       "145                6.7               3.0                5.2               2.3\n",
       "146                6.3               2.5                5.0               1.9\n",
       "147                6.5               3.0                5.2               2.0\n",
       "148                6.2               3.4                5.4               2.3\n",
       "149                5.9               3.0                5.1               1.8\n",
       "\n",
       "[150 rows x 4 columns]"
      ]
     },
     "execution_count": 2,
     "metadata": {},
     "output_type": "execute_result"
    }
   ],
   "source": [
    "iris"
   ]
  },
  {
   "cell_type": "code",
   "execution_count": 3,
   "id": "e10ed0a4-81f3-4960-acc7-fdd34afa68ed",
   "metadata": {},
   "outputs": [
    {
     "data": {
      "text/html": [
       "<div>\n",
       "<style scoped>\n",
       "    .dataframe tbody tr th:only-of-type {\n",
       "        vertical-align: middle;\n",
       "    }\n",
       "\n",
       "    .dataframe tbody tr th {\n",
       "        vertical-align: top;\n",
       "    }\n",
       "\n",
       "    .dataframe thead th {\n",
       "        text-align: right;\n",
       "    }\n",
       "</style>\n",
       "<table border=\"1\" class=\"dataframe\">\n",
       "  <thead>\n",
       "    <tr style=\"text-align: right;\">\n",
       "      <th></th>\n",
       "      <th>MedInc</th>\n",
       "      <th>HouseAge</th>\n",
       "      <th>AveRooms</th>\n",
       "      <th>AveBedrms</th>\n",
       "      <th>Population</th>\n",
       "      <th>AveOccup</th>\n",
       "      <th>Latitude</th>\n",
       "      <th>Longitude</th>\n",
       "    </tr>\n",
       "  </thead>\n",
       "  <tbody>\n",
       "    <tr>\n",
       "      <th>0</th>\n",
       "      <td>8.3252</td>\n",
       "      <td>41.0</td>\n",
       "      <td>6.984127</td>\n",
       "      <td>1.023810</td>\n",
       "      <td>322.0</td>\n",
       "      <td>2.555556</td>\n",
       "      <td>37.88</td>\n",
       "      <td>-122.23</td>\n",
       "    </tr>\n",
       "    <tr>\n",
       "      <th>1</th>\n",
       "      <td>8.3014</td>\n",
       "      <td>21.0</td>\n",
       "      <td>6.238137</td>\n",
       "      <td>0.971880</td>\n",
       "      <td>2401.0</td>\n",
       "      <td>2.109842</td>\n",
       "      <td>37.86</td>\n",
       "      <td>-122.22</td>\n",
       "    </tr>\n",
       "    <tr>\n",
       "      <th>2</th>\n",
       "      <td>7.2574</td>\n",
       "      <td>52.0</td>\n",
       "      <td>8.288136</td>\n",
       "      <td>1.073446</td>\n",
       "      <td>496.0</td>\n",
       "      <td>2.802260</td>\n",
       "      <td>37.85</td>\n",
       "      <td>-122.24</td>\n",
       "    </tr>\n",
       "    <tr>\n",
       "      <th>3</th>\n",
       "      <td>5.6431</td>\n",
       "      <td>52.0</td>\n",
       "      <td>5.817352</td>\n",
       "      <td>1.073059</td>\n",
       "      <td>558.0</td>\n",
       "      <td>2.547945</td>\n",
       "      <td>37.85</td>\n",
       "      <td>-122.25</td>\n",
       "    </tr>\n",
       "    <tr>\n",
       "      <th>4</th>\n",
       "      <td>3.8462</td>\n",
       "      <td>52.0</td>\n",
       "      <td>6.281853</td>\n",
       "      <td>1.081081</td>\n",
       "      <td>565.0</td>\n",
       "      <td>2.181467</td>\n",
       "      <td>37.85</td>\n",
       "      <td>-122.25</td>\n",
       "    </tr>\n",
       "    <tr>\n",
       "      <th>...</th>\n",
       "      <td>...</td>\n",
       "      <td>...</td>\n",
       "      <td>...</td>\n",
       "      <td>...</td>\n",
       "      <td>...</td>\n",
       "      <td>...</td>\n",
       "      <td>...</td>\n",
       "      <td>...</td>\n",
       "    </tr>\n",
       "    <tr>\n",
       "      <th>20635</th>\n",
       "      <td>1.5603</td>\n",
       "      <td>25.0</td>\n",
       "      <td>5.045455</td>\n",
       "      <td>1.133333</td>\n",
       "      <td>845.0</td>\n",
       "      <td>2.560606</td>\n",
       "      <td>39.48</td>\n",
       "      <td>-121.09</td>\n",
       "    </tr>\n",
       "    <tr>\n",
       "      <th>20636</th>\n",
       "      <td>2.5568</td>\n",
       "      <td>18.0</td>\n",
       "      <td>6.114035</td>\n",
       "      <td>1.315789</td>\n",
       "      <td>356.0</td>\n",
       "      <td>3.122807</td>\n",
       "      <td>39.49</td>\n",
       "      <td>-121.21</td>\n",
       "    </tr>\n",
       "    <tr>\n",
       "      <th>20637</th>\n",
       "      <td>1.7000</td>\n",
       "      <td>17.0</td>\n",
       "      <td>5.205543</td>\n",
       "      <td>1.120092</td>\n",
       "      <td>1007.0</td>\n",
       "      <td>2.325635</td>\n",
       "      <td>39.43</td>\n",
       "      <td>-121.22</td>\n",
       "    </tr>\n",
       "    <tr>\n",
       "      <th>20638</th>\n",
       "      <td>1.8672</td>\n",
       "      <td>18.0</td>\n",
       "      <td>5.329513</td>\n",
       "      <td>1.171920</td>\n",
       "      <td>741.0</td>\n",
       "      <td>2.123209</td>\n",
       "      <td>39.43</td>\n",
       "      <td>-121.32</td>\n",
       "    </tr>\n",
       "    <tr>\n",
       "      <th>20639</th>\n",
       "      <td>2.3886</td>\n",
       "      <td>16.0</td>\n",
       "      <td>5.254717</td>\n",
       "      <td>1.162264</td>\n",
       "      <td>1387.0</td>\n",
       "      <td>2.616981</td>\n",
       "      <td>39.37</td>\n",
       "      <td>-121.24</td>\n",
       "    </tr>\n",
       "  </tbody>\n",
       "</table>\n",
       "<p>20640 rows × 8 columns</p>\n",
       "</div>"
      ],
      "text/plain": [
       "       MedInc  HouseAge  AveRooms  AveBedrms  Population  AveOccup  Latitude  \\\n",
       "0      8.3252      41.0  6.984127   1.023810       322.0  2.555556     37.88   \n",
       "1      8.3014      21.0  6.238137   0.971880      2401.0  2.109842     37.86   \n",
       "2      7.2574      52.0  8.288136   1.073446       496.0  2.802260     37.85   \n",
       "3      5.6431      52.0  5.817352   1.073059       558.0  2.547945     37.85   \n",
       "4      3.8462      52.0  6.281853   1.081081       565.0  2.181467     37.85   \n",
       "...       ...       ...       ...        ...         ...       ...       ...   \n",
       "20635  1.5603      25.0  5.045455   1.133333       845.0  2.560606     39.48   \n",
       "20636  2.5568      18.0  6.114035   1.315789       356.0  3.122807     39.49   \n",
       "20637  1.7000      17.0  5.205543   1.120092      1007.0  2.325635     39.43   \n",
       "20638  1.8672      18.0  5.329513   1.171920       741.0  2.123209     39.43   \n",
       "20639  2.3886      16.0  5.254717   1.162264      1387.0  2.616981     39.37   \n",
       "\n",
       "       Longitude  \n",
       "0        -122.23  \n",
       "1        -122.22  \n",
       "2        -122.24  \n",
       "3        -122.25  \n",
       "4        -122.25  \n",
       "...          ...  \n",
       "20635    -121.09  \n",
       "20636    -121.21  \n",
       "20637    -121.22  \n",
       "20638    -121.32  \n",
       "20639    -121.24  \n",
       "\n",
       "[20640 rows x 8 columns]"
      ]
     },
     "execution_count": 3,
     "metadata": {},
     "output_type": "execute_result"
    }
   ],
   "source": [
    "housing"
   ]
  },
  {
   "cell_type": "code",
   "execution_count": 4,
   "id": "9b2c559c-9a2b-47a6-a536-fd97f70a0a52",
   "metadata": {},
   "outputs": [
    {
     "data": {
      "text/html": [
       "<div>\n",
       "<style scoped>\n",
       "    .dataframe tbody tr th:only-of-type {\n",
       "        vertical-align: middle;\n",
       "    }\n",
       "\n",
       "    .dataframe tbody tr th {\n",
       "        vertical-align: top;\n",
       "    }\n",
       "\n",
       "    .dataframe thead th {\n",
       "        text-align: right;\n",
       "    }\n",
       "</style>\n",
       "<table border=\"1\" class=\"dataframe\">\n",
       "  <thead>\n",
       "    <tr style=\"text-align: right;\">\n",
       "      <th></th>\n",
       "      <th>age</th>\n",
       "      <th>sex</th>\n",
       "      <th>bmi</th>\n",
       "      <th>bp</th>\n",
       "      <th>s1</th>\n",
       "      <th>s2</th>\n",
       "      <th>s3</th>\n",
       "      <th>s4</th>\n",
       "      <th>s5</th>\n",
       "      <th>s6</th>\n",
       "    </tr>\n",
       "  </thead>\n",
       "  <tbody>\n",
       "    <tr>\n",
       "      <th>0</th>\n",
       "      <td>0.038076</td>\n",
       "      <td>0.050680</td>\n",
       "      <td>0.061696</td>\n",
       "      <td>0.021872</td>\n",
       "      <td>-0.044223</td>\n",
       "      <td>-0.034821</td>\n",
       "      <td>-0.043401</td>\n",
       "      <td>-0.002592</td>\n",
       "      <td>0.019907</td>\n",
       "      <td>-0.017646</td>\n",
       "    </tr>\n",
       "    <tr>\n",
       "      <th>1</th>\n",
       "      <td>-0.001882</td>\n",
       "      <td>-0.044642</td>\n",
       "      <td>-0.051474</td>\n",
       "      <td>-0.026328</td>\n",
       "      <td>-0.008449</td>\n",
       "      <td>-0.019163</td>\n",
       "      <td>0.074412</td>\n",
       "      <td>-0.039493</td>\n",
       "      <td>-0.068332</td>\n",
       "      <td>-0.092204</td>\n",
       "    </tr>\n",
       "    <tr>\n",
       "      <th>2</th>\n",
       "      <td>0.085299</td>\n",
       "      <td>0.050680</td>\n",
       "      <td>0.044451</td>\n",
       "      <td>-0.005670</td>\n",
       "      <td>-0.045599</td>\n",
       "      <td>-0.034194</td>\n",
       "      <td>-0.032356</td>\n",
       "      <td>-0.002592</td>\n",
       "      <td>0.002861</td>\n",
       "      <td>-0.025930</td>\n",
       "    </tr>\n",
       "    <tr>\n",
       "      <th>3</th>\n",
       "      <td>-0.089063</td>\n",
       "      <td>-0.044642</td>\n",
       "      <td>-0.011595</td>\n",
       "      <td>-0.036656</td>\n",
       "      <td>0.012191</td>\n",
       "      <td>0.024991</td>\n",
       "      <td>-0.036038</td>\n",
       "      <td>0.034309</td>\n",
       "      <td>0.022688</td>\n",
       "      <td>-0.009362</td>\n",
       "    </tr>\n",
       "    <tr>\n",
       "      <th>4</th>\n",
       "      <td>0.005383</td>\n",
       "      <td>-0.044642</td>\n",
       "      <td>-0.036385</td>\n",
       "      <td>0.021872</td>\n",
       "      <td>0.003935</td>\n",
       "      <td>0.015596</td>\n",
       "      <td>0.008142</td>\n",
       "      <td>-0.002592</td>\n",
       "      <td>-0.031988</td>\n",
       "      <td>-0.046641</td>\n",
       "    </tr>\n",
       "    <tr>\n",
       "      <th>...</th>\n",
       "      <td>...</td>\n",
       "      <td>...</td>\n",
       "      <td>...</td>\n",
       "      <td>...</td>\n",
       "      <td>...</td>\n",
       "      <td>...</td>\n",
       "      <td>...</td>\n",
       "      <td>...</td>\n",
       "      <td>...</td>\n",
       "      <td>...</td>\n",
       "    </tr>\n",
       "    <tr>\n",
       "      <th>437</th>\n",
       "      <td>0.041708</td>\n",
       "      <td>0.050680</td>\n",
       "      <td>0.019662</td>\n",
       "      <td>0.059744</td>\n",
       "      <td>-0.005697</td>\n",
       "      <td>-0.002566</td>\n",
       "      <td>-0.028674</td>\n",
       "      <td>-0.002592</td>\n",
       "      <td>0.031193</td>\n",
       "      <td>0.007207</td>\n",
       "    </tr>\n",
       "    <tr>\n",
       "      <th>438</th>\n",
       "      <td>-0.005515</td>\n",
       "      <td>0.050680</td>\n",
       "      <td>-0.015906</td>\n",
       "      <td>-0.067642</td>\n",
       "      <td>0.049341</td>\n",
       "      <td>0.079165</td>\n",
       "      <td>-0.028674</td>\n",
       "      <td>0.034309</td>\n",
       "      <td>-0.018114</td>\n",
       "      <td>0.044485</td>\n",
       "    </tr>\n",
       "    <tr>\n",
       "      <th>439</th>\n",
       "      <td>0.041708</td>\n",
       "      <td>0.050680</td>\n",
       "      <td>-0.015906</td>\n",
       "      <td>0.017293</td>\n",
       "      <td>-0.037344</td>\n",
       "      <td>-0.013840</td>\n",
       "      <td>-0.024993</td>\n",
       "      <td>-0.011080</td>\n",
       "      <td>-0.046883</td>\n",
       "      <td>0.015491</td>\n",
       "    </tr>\n",
       "    <tr>\n",
       "      <th>440</th>\n",
       "      <td>-0.045472</td>\n",
       "      <td>-0.044642</td>\n",
       "      <td>0.039062</td>\n",
       "      <td>0.001215</td>\n",
       "      <td>0.016318</td>\n",
       "      <td>0.015283</td>\n",
       "      <td>-0.028674</td>\n",
       "      <td>0.026560</td>\n",
       "      <td>0.044529</td>\n",
       "      <td>-0.025930</td>\n",
       "    </tr>\n",
       "    <tr>\n",
       "      <th>441</th>\n",
       "      <td>-0.045472</td>\n",
       "      <td>-0.044642</td>\n",
       "      <td>-0.073030</td>\n",
       "      <td>-0.081413</td>\n",
       "      <td>0.083740</td>\n",
       "      <td>0.027809</td>\n",
       "      <td>0.173816</td>\n",
       "      <td>-0.039493</td>\n",
       "      <td>-0.004222</td>\n",
       "      <td>0.003064</td>\n",
       "    </tr>\n",
       "  </tbody>\n",
       "</table>\n",
       "<p>442 rows × 10 columns</p>\n",
       "</div>"
      ],
      "text/plain": [
       "          age       sex       bmi        bp        s1        s2        s3  \\\n",
       "0    0.038076  0.050680  0.061696  0.021872 -0.044223 -0.034821 -0.043401   \n",
       "1   -0.001882 -0.044642 -0.051474 -0.026328 -0.008449 -0.019163  0.074412   \n",
       "2    0.085299  0.050680  0.044451 -0.005670 -0.045599 -0.034194 -0.032356   \n",
       "3   -0.089063 -0.044642 -0.011595 -0.036656  0.012191  0.024991 -0.036038   \n",
       "4    0.005383 -0.044642 -0.036385  0.021872  0.003935  0.015596  0.008142   \n",
       "..        ...       ...       ...       ...       ...       ...       ...   \n",
       "437  0.041708  0.050680  0.019662  0.059744 -0.005697 -0.002566 -0.028674   \n",
       "438 -0.005515  0.050680 -0.015906 -0.067642  0.049341  0.079165 -0.028674   \n",
       "439  0.041708  0.050680 -0.015906  0.017293 -0.037344 -0.013840 -0.024993   \n",
       "440 -0.045472 -0.044642  0.039062  0.001215  0.016318  0.015283 -0.028674   \n",
       "441 -0.045472 -0.044642 -0.073030 -0.081413  0.083740  0.027809  0.173816   \n",
       "\n",
       "           s4        s5        s6  \n",
       "0   -0.002592  0.019907 -0.017646  \n",
       "1   -0.039493 -0.068332 -0.092204  \n",
       "2   -0.002592  0.002861 -0.025930  \n",
       "3    0.034309  0.022688 -0.009362  \n",
       "4   -0.002592 -0.031988 -0.046641  \n",
       "..        ...       ...       ...  \n",
       "437 -0.002592  0.031193  0.007207  \n",
       "438  0.034309 -0.018114  0.044485  \n",
       "439 -0.011080 -0.046883  0.015491  \n",
       "440  0.026560  0.044529 -0.025930  \n",
       "441 -0.039493 -0.004222  0.003064  \n",
       "\n",
       "[442 rows x 10 columns]"
      ]
     },
     "execution_count": 4,
     "metadata": {},
     "output_type": "execute_result"
    }
   ],
   "source": [
    "diabetes"
   ]
  },
  {
   "cell_type": "markdown",
   "id": "9b8e9274-1e7c-43ba-bbbc-599a1f39a791",
   "metadata": {},
   "source": [
    "# Super Class and Utils"
   ]
  },
  {
   "cell_type": "code",
   "execution_count": 5,
   "id": "104d808e-427f-427f-9fea-5d6ac588e890",
   "metadata": {},
   "outputs": [],
   "source": [
    "from math import log, e\n",
    "import numpy as np\n",
    "import pandas as pd\n",
    "\n",
    "class feature():\n",
    "\n",
    "    @staticmethod\n",
    "    def get_count(data):\n",
    "        \"\"\"\n",
    "        equivalent to return len(data), data.value_counts()\n",
    "        \"\"\"\n",
    "        n_labels = len(data)     \n",
    "        value, counts = np.unique(data, return_counts=True)\n",
    "        return n_labels, (value, counts)\n",
    "    \n",
    "    # def entropy_scipy(probs):\n",
    "    #      # `pd.Series` with scipy\n",
    "    #     p_data = data.value_counts()           # counts occurrence of each value \n",
    "    #     return  scipy.stats.entropy(p_data)    # get entropy from counts\n",
    "    #     # return  scipy.stats.entropy(probs)    # get entropy from prob\n",
    "     \n",
    "    @staticmethod\n",
    "    def entropy_numpy(n_labels, freq, base=2):\n",
    "    # def entropy_numpy(probs, base=2):\n",
    "        \"\"\" Computes entropy of label distribution with numpy. \"\"\"\n",
    "\n",
    "        if n_labels <= 1:\n",
    "            return 0 \n",
    "        probs = freq / n_labels\n",
    "        probs = probs[probs>0]\n",
    "        \n",
    "        n_classes = np.count_nonzero(probs)        \n",
    "        if n_classes <= 1:\n",
    "            return 0\n",
    "        \n",
    "        # Compute entropy\n",
    "        # base = e if base is None else base\n",
    "        ent = 0.\n",
    "        for prob in probs:\n",
    "            ent -= prob * log(prob, base)\n",
    "        return ent\n",
    "\n",
    "    @staticmethod\n",
    "    def get_data_type(series: pd.Series) -> str:\n",
    "        # Check if the series is empty\n",
    "        if series.empty:\n",
    "            return \"Empty\"\n",
    "        \n",
    "        # Check if the series is of datetime type\n",
    "        if pd.api.types.is_datetime64_any_dtype(series):\n",
    "            return \"Datetime\"\n",
    "        \n",
    "        # Check if the series is boolean\n",
    "        if pd.api.types.is_bool_dtype(series):\n",
    "            return \"Binary\"\n",
    "        \n",
    "        # Check if the series is numeric (int or float)\n",
    "        if pd.api.types.is_numeric_dtype(series):\n",
    "            # If there are only 2 unique values, treat as binary\n",
    "            if series.nunique() == 2:\n",
    "                return \"Binary\"\n",
    "            else:\n",
    "                return \"Continuous\"\n",
    "        \n",
    "        # If the series is an object (e.g., strings or mixed types)\n",
    "        if pd.api.types.is_object_dtype(series):\n",
    "            unique_values = series.nunique()\n",
    "            total_values = len(series)\n",
    "            \n",
    "            # Consider the series categorical if unique values are relatively small\n",
    "            if unique_values / total_values < 0.05:\n",
    "                return \"Categorical\"\n",
    "            else:\n",
    "                return \"Text\"\n",
    "        \n",
    "        return \"Unknown\""
   ]
  },
  {
   "cell_type": "code",
   "execution_count": 6,
   "id": "a9eba1bb-f23d-45e5-8163-d8e6ad5b3929",
   "metadata": {},
   "outputs": [],
   "source": [
    "from abc import ABC, abstractmethod, ABCMeta\n",
    "import matplotlib.pyplot as plt\n",
    "\n",
    "class Viz():\n",
    "    __metaclass__ = ABCMeta\n",
    "    \n",
    "    def __init__(self, column_data):\n",
    "        self.data_type = feature.get_data_type(column_data) # Turn datatypes into class\n",
    "        self.column_name = column_data.name\n",
    "        self.feature   = self._compute_feature()\n",
    "        # self.columns   = columns\n",
    "    \n",
    "    def __init__(self, x, y):\n",
    "        self.data_type = feature.get_data_type(x), feature.get_data_type(y)  # Turn datatypes into class\n",
    "        self.column_name = x.name, y.name\n",
    "        self.feature   = self._compute_feature()\n",
    "        # self.columns   = columns\n",
    "        \n",
    "    # @classmethod\n",
    "    # def two_D(cls):\n",
    "    #     return cls(randint(66, 100))\n",
    "          \n",
    "    @abstractmethod\n",
    "    def get_params(self):\n",
    "        pass\n",
    "\n",
    "    @abstractmethod\n",
    "    def _compute_feature(self):\n",
    "        pass\n",
    "\n",
    "    @abstractmethod\n",
    "    def plt(self, **kwargs):\n",
    "        pass"
   ]
  },
  {
   "cell_type": "code",
   "execution_count": 7,
   "id": "3950e6e5",
   "metadata": {},
   "outputs": [],
   "source": [
    "from itertools import combinations\n",
    "class VizSelector():\n",
    "    \n",
    "    def __init__(self, df: pd.DataFrame, viz_type: str):\n",
    "        self.vizs = []\n",
    "        model_map = {\"hist\": (\"1D\", Histogram), \"scatter\": (\"2D\", Scatter)}\n",
    "        dim, viz_model = model_map[viz_type]\n",
    "\n",
    "        if(dim == '1D'):\n",
    "            for _, data in df.items():\n",
    "                self.vizs.append(viz_model(data))\n",
    "        else:\n",
    "            column_pairs = combinations(df.columns, 2)\n",
    "            for x, y in column_pairs:\n",
    "                self.vizs.append(viz_model(df[x], df[y]))\n",
    "            \n",
    "    def rank(self):\n",
    "        vizs_sorted = sorted(self.vizs, key=lambda x: x.get_params()[\"feature\"], reverse=True)\n",
    "        return vizs_sorted\n",
    "    \n",
    "    def rank5(self):\n",
    "        return self.rank()[:5]\n",
    "    \n",
    "    def plt(self):\n",
    "        fig, axs = plt.subplots(1, 5, figsize=(20, 4))\n",
    "        for idx, obj in enumerate(self.rank5()):\n",
    "            axs[idx].scatter(obj.x, obj.y, color='blue')\n",
    "            axs[idx].set_title('Scatter Plot 1')"
   ]
  },
  {
   "cell_type": "code",
   "execution_count": 23,
   "id": "4462b46c",
   "metadata": {},
   "outputs": [],
   "source": [
    "obj = VizSelector(housing, 'scatter')\n",
    "# obj = VizSelector(housing, 'hist')"
   ]
  },
  {
   "cell_type": "code",
   "execution_count": 24,
   "id": "bbf518bf",
   "metadata": {},
   "outputs": [
    {
     "data": {
      "text/plain": [
       "[PearsonRResult(statistic=np.float64(0.8476213257130452), pvalue=np.float64(0.0)),\n",
       " PearsonRResult(statistic=np.float64(0.3268954316412956), pvalue=np.float64(0.0)),\n",
       " PearsonRResult(statistic=np.float64(0.10638896548625519), pvalue=np.float64(5.040226653302828e-53)),\n",
       " PearsonRResult(statistic=np.float64(0.0997732228746456), pvalue=np.float64(8.094076049876738e-47)),\n",
       " PearsonRResult(statistic=np.float64(0.06986273036567668), pvalue=np.float64(9.319165723256792e-24))]"
      ]
     },
     "execution_count": 24,
     "metadata": {},
     "output_type": "execute_result"
    }
   ],
   "source": [
    "top5 = obj.rank5()\n",
    "# obj.rank()\n",
    "list(map(lambda x: x.get_params()[\"feature\"], obj.rank5()))"
   ]
  },
  {
   "cell_type": "code",
   "execution_count": 25,
   "id": "57347685",
   "metadata": {},
   "outputs": [
    {
     "data": {
      "image/png": "[encoded data removed]",
      "text/plain": [
       "<Figure size 2000x400 with 5 Axes>"
      ]
     },
     "metadata": {},
     "output_type": "display_data"
    }
   ],
   "source": []
  },
  {
   "cell_type": "code",
   "execution_count": 163,
   "id": "ef3b7f28",
   "metadata": {},
   "outputs": [
    {
     "data": {
      "image/png": "[encoded data removed]",
      "text/plain": [
       "<Figure size 2000x400 with 5 Axes>"
      ]
     },
     "metadata": {},
     "output_type": "display_data"
    }
   ],
   "source": [
    "# import matplotlib.pyplot as plt\n",
    "# import numpy as np\n",
    "\n",
    "# # Generate sample data for scatter plots\n",
    "# np.random.seed(42)\n",
    "# x1 = np.random.rand(100)\n",
    "# y1 = np.random.rand(100)\n",
    "# x2 = np.random.rand(100)\n",
    "# y2 = np.random.rand(100)\n",
    "# x3 = np.random.rand(100)\n",
    "# y3 = np.random.rand(100)\n",
    "# x4 = np.random.rand(100)\n",
    "# y4 = np.random.rand(100)\n",
    "# x5 = np.random.rand(100)\n",
    "# y5 = np.random.rand(100)\n",
    "\n",
    "# # Create figure and subplots\n",
    "# fig, axs = plt.subplots(1, 5, figsize=(20, 4))\n",
    "\n",
    "# # Plotting each scatter plot\n",
    "# axs[0].scatter(x1, y1, color='blue')\n",
    "# axs[0].set_title('Scatter Plot 1')\n",
    "\n",
    "# axs[1].scatter(x2, y2, color='green')\n",
    "# axs[1].set_title('Scatter Plot 2')\n",
    "\n",
    "# axs[2].scatter(x3, y3, color='red')\n",
    "# axs[2].set_title('Scatter Plot 3')\n",
    "\n",
    "# axs[3].scatter(x4, y4, color='purple')\n",
    "# axs[3].set_title('Scatter Plot 4')\n",
    "\n",
    "# axs[4].scatter(x5, y5, color='orange')\n",
    "# axs[4].set_title('Scatter Plot 5')\n",
    "\n",
    "# # Adjust spacing between plots\n",
    "# plt.tight_layout()\n",
    "# plt.show()"
   ]
  },
  {
   "cell_type": "markdown",
   "id": "b7f4f39e",
   "metadata": {},
   "source": [
    "# 1D"
   ]
  },
  {
   "cell_type": "markdown",
   "id": "e2260163-ecb1-44a5-86ec-283236c00cda",
   "metadata": {
    "jp-MarkdownHeadingCollapsed": true
   },
   "source": [
    "## Histogram"
   ]
  },
  {
   "cell_type": "code",
   "execution_count": 9,
   "id": "96ebc8c6-7196-48f0-8e7c-700ad82d2fec",
   "metadata": {},
   "outputs": [],
   "source": [
    "class Histogram(Viz):\n",
    "\n",
    "    def __init__(self, column_data):\n",
    "        #\n",
    "        # self.data_len, self.data_freq = feature.get_count(column_data)\n",
    "        self.data_len = len(column_data)\n",
    "        self.frequency, self.bins = np.histogram(column_data, bins=10, range=[(column_data.min() if column_data.min() < 0 else 0 ), column_data.max()], density=False)\n",
    "        super().__init__(column_data)\n",
    "\n",
    "    def _compute_feature(self):\n",
    "        \"\"\"Calculates entropy\"\"\"\n",
    "        # TODO timeit \n",
    "        # scipy_entr = feature.entropy_scipy(self.data_len, self.frequency)\n",
    "        numpy_entr = feature.entropy_numpy(self.data_len, self.frequency)\n",
    "\n",
    "        # print(scipy_entr, numpy_entr)\n",
    "        return numpy_entr\n",
    "\n",
    "    def get_params(self):\n",
    "        # return self.feature, self.data_len, self.data_freq\n",
    "        return {\"feature\": self.feature, \"params\": (self.frequency, self.bins)}\n",
    "\n",
    "    def plt(self):\n",
    "        ## Printar linha y com a distribuição\n",
    "        plt.hist(self.frequency, self.bins, density=True)"
   ]
  },
  {
   "cell_type": "code",
   "execution_count": 10,
   "id": "ee43614e-f974-438e-9a92-6f37b4e68cba",
   "metadata": {},
   "outputs": [
    {
     "ename": "TypeError",
     "evalue": "Viz.__init__() missing 1 required positional argument: 'y'",
     "output_type": "error",
     "traceback": [
      "\u001b[0;31m---------------------------------------------------------------------------\u001b[0m",
      "\u001b[0;31mTypeError\u001b[0m                                 Traceback (most recent call last)",
      "Cell \u001b[0;32mIn[10], line 1\u001b[0m\n\u001b[0;32m----> 1\u001b[0m hist_obj \u001b[38;5;241m=\u001b[39m \u001b[43mHistogram\u001b[49m\u001b[43m(\u001b[49m\u001b[43mhousing\u001b[49m\u001b[43m[\u001b[49m\u001b[38;5;124;43m\"\u001b[39;49m\u001b[38;5;124;43mAveRooms\u001b[39;49m\u001b[38;5;124;43m\"\u001b[39;49m\u001b[43m]\u001b[49m\u001b[43m)\u001b[49m\n",
      "Cell \u001b[0;32mIn[9], line 8\u001b[0m, in \u001b[0;36mHistogram.__init__\u001b[0;34m(self, column_data)\u001b[0m\n\u001b[1;32m      6\u001b[0m \u001b[38;5;28mself\u001b[39m\u001b[38;5;241m.\u001b[39mdata_len \u001b[38;5;241m=\u001b[39m \u001b[38;5;28mlen\u001b[39m(column_data)\n\u001b[1;32m      7\u001b[0m \u001b[38;5;28mself\u001b[39m\u001b[38;5;241m.\u001b[39mfrequency, \u001b[38;5;28mself\u001b[39m\u001b[38;5;241m.\u001b[39mbins \u001b[38;5;241m=\u001b[39m np\u001b[38;5;241m.\u001b[39mhistogram(column_data, bins\u001b[38;5;241m=\u001b[39m\u001b[38;5;241m10\u001b[39m, \u001b[38;5;28mrange\u001b[39m\u001b[38;5;241m=\u001b[39m[(column_data\u001b[38;5;241m.\u001b[39mmin() \u001b[38;5;28;01mif\u001b[39;00m column_data\u001b[38;5;241m.\u001b[39mmin() \u001b[38;5;241m<\u001b[39m \u001b[38;5;241m0\u001b[39m \u001b[38;5;28;01melse\u001b[39;00m \u001b[38;5;241m0\u001b[39m ), column_data\u001b[38;5;241m.\u001b[39mmax()], density\u001b[38;5;241m=\u001b[39m\u001b[38;5;28;01mFalse\u001b[39;00m)\n\u001b[0;32m----> 8\u001b[0m \u001b[38;5;28;43msuper\u001b[39;49m\u001b[43m(\u001b[49m\u001b[43m)\u001b[49m\u001b[38;5;241;43m.\u001b[39;49m\u001b[38;5;21;43m__init__\u001b[39;49m\u001b[43m(\u001b[49m\u001b[43mcolumn_data\u001b[49m\u001b[43m)\u001b[49m\n",
      "\u001b[0;31mTypeError\u001b[0m: Viz.__init__() missing 1 required positional argument: 'y'"
     ]
    }
   ],
   "source": [
    "hist_obj = Histogram(housing[\"AveRooms\"])"
   ]
  },
  {
   "cell_type": "code",
   "execution_count": 11,
   "id": "d57b2d70-b455-4d42-b528-348ab33e64ae",
   "metadata": {},
   "outputs": [
    {
     "ename": "NameError",
     "evalue": "name 'hist_obj' is not defined",
     "output_type": "error",
     "traceback": [
      "\u001b[0;31m---------------------------------------------------------------------------\u001b[0m",
      "\u001b[0;31mNameError\u001b[0m                                 Traceback (most recent call last)",
      "Cell \u001b[0;32mIn[11], line 1\u001b[0m\n\u001b[0;32m----> 1\u001b[0m \u001b[43mhist_obj\u001b[49m\u001b[38;5;241m.\u001b[39mplt()\n",
      "\u001b[0;31mNameError\u001b[0m: name 'hist_obj' is not defined"
     ]
    }
   ],
   "source": [
    "hist_obj.plt()"
   ]
  },
  {
   "cell_type": "code",
   "execution_count": 12,
   "id": "11e42316-c48c-4395-b38e-0a3da30ffd85",
   "metadata": {},
   "outputs": [
    {
     "ename": "NameError",
     "evalue": "name 'hist_obj' is not defined",
     "output_type": "error",
     "traceback": [
      "\u001b[0;31m---------------------------------------------------------------------------\u001b[0m",
      "\u001b[0;31mNameError\u001b[0m                                 Traceback (most recent call last)",
      "Cell \u001b[0;32mIn[12], line 1\u001b[0m\n\u001b[0;32m----> 1\u001b[0m \u001b[43mhist_obj\u001b[49m\u001b[38;5;241m.\u001b[39mget_params()\n",
      "\u001b[0;31mNameError\u001b[0m: name 'hist_obj' is not defined"
     ]
    }
   ],
   "source": [
    "hist_obj.get_params()"
   ]
  },
  {
   "cell_type": "code",
   "execution_count": 13,
   "id": "d05c14df-5b8e-4d23-97bb-4ec7e08c1571",
   "metadata": {},
   "outputs": [
    {
     "ename": "NameError",
     "evalue": "name 'hist_obj' is not defined",
     "output_type": "error",
     "traceback": [
      "\u001b[0;31m---------------------------------------------------------------------------\u001b[0m",
      "\u001b[0;31mNameError\u001b[0m                                 Traceback (most recent call last)",
      "Cell \u001b[0;32mIn[13], line 1\u001b[0m\n\u001b[0;32m----> 1\u001b[0m \u001b[43mhist_obj\u001b[49m\u001b[38;5;241m.\u001b[39mdata_type\n",
      "\u001b[0;31mNameError\u001b[0m: name 'hist_obj' is not defined"
     ]
    }
   ],
   "source": [
    "hist_obj.data_type"
   ]
  },
  {
   "cell_type": "markdown",
   "id": "4e0ac93f-f893-44a7-b2ab-614e3985b277",
   "metadata": {
    "jp-MarkdownHeadingCollapsed": true
   },
   "source": [
    "## Box plot"
   ]
  },
  {
   "cell_type": "code",
   "execution_count": 14,
   "id": "60d52655-cd92-438e-883a-a7c66a79f78e",
   "metadata": {},
   "outputs": [],
   "source": [
    "class BoxPlot(Viz):\n",
    "\n",
    "    def __init__(self, column_data):\n",
    "        self.data_len = len(column_data)\n",
    "        self.params  = BoxPlot.calculate_boxplot_params(column_data)\n",
    "        super().__init__(column_data)\n",
    "    \n",
    "    def calculate_boxplot_params(series: pd.Series) -> dict:\n",
    "        \"\"\"\n",
    "        Calculate the boxplot parameters (min, Q1, median, Q3, max, and outliers) from a pandas Series.\n",
    "        \"\"\"\n",
    "        q1 = series.quantile(0.25)\n",
    "        median = series.median()\n",
    "        q3 = series.quantile(0.75)\n",
    "        iqr = q3 - q1  # Interquartile range\n",
    "        whisker_low = q1 - 1.5 * iqr\n",
    "        whisker_high = q3 + 1.5 * iqr\n",
    "        \n",
    "        # Calculate min and max within the whiskers\n",
    "        min_val = series[series >= whisker_low].min()\n",
    "        max_val = series[series <= whisker_high].max()\n",
    "        \n",
    "        # Identify outliers (fliers)\n",
    "        outliers = series[(series < whisker_low) | (series > whisker_high)].values\n",
    "    \n",
    "        return {\n",
    "            'whislo': whisker_low,   # Bottom whisker position\n",
    "            'q1': q1,        # First quartile (25th percentile)\n",
    "            'med': median,   # Median (50th percentile)\n",
    "            'q3': q3,        # Third quartile (75th percentile)\n",
    "            'whishi': whisker_high,   # Top whisker position\n",
    "            'fliers': outliers  # Outliers\n",
    "            }\n",
    "        \n",
    "    def _compute_feature(self):\n",
    "        \"\"\"Calculates \"\"\"\n",
    "        # pass\n",
    "        return 0\n",
    "\n",
    "    def get_params(self):\n",
    "        # return self.feature, self.data_len, self.data_freq\n",
    "        return {\"feature\": self.feature, **self.params}\n",
    "\n",
    "    def plt(self):\n",
    "        ## Printar linha y com a distribuição\n",
    "         # plt.boxplot(column_data, patch_artist=True)  # fill with random  color\n",
    "        fig, ax = plt.subplots()\n",
    "        ax.bxp([self.params], showfliers=True, patch_artist=True, boxprops=dict(facecolor='lightblue'))\n",
    "        ax.set_xticks([1], [self.column_name], rotation=45) # Rotaciona o rótulo do eixo x "
   ]
  },
  {
   "cell_type": "code",
   "execution_count": 15,
   "id": "635f46b1-435a-44b5-9d2e-8b03ff0dcb38",
   "metadata": {},
   "outputs": [
    {
     "ename": "TypeError",
     "evalue": "Viz.__init__() missing 1 required positional argument: 'y'",
     "output_type": "error",
     "traceback": [
      "\u001b[0;31m---------------------------------------------------------------------------\u001b[0m",
      "\u001b[0;31mTypeError\u001b[0m                                 Traceback (most recent call last)",
      "Cell \u001b[0;32mIn[15], line 1\u001b[0m\n\u001b[0;32m----> 1\u001b[0m box_obj \u001b[38;5;241m=\u001b[39m \u001b[43mBoxPlot\u001b[49m\u001b[43m(\u001b[49m\u001b[43mhousing\u001b[49m\u001b[43m[\u001b[49m\u001b[38;5;124;43m\"\u001b[39;49m\u001b[38;5;124;43mHouseAge\u001b[39;49m\u001b[38;5;124;43m\"\u001b[39;49m\u001b[43m]\u001b[49m\u001b[43m)\u001b[49m\n",
      "Cell \u001b[0;32mIn[14], line 6\u001b[0m, in \u001b[0;36mBoxPlot.__init__\u001b[0;34m(self, column_data)\u001b[0m\n\u001b[1;32m      4\u001b[0m \u001b[38;5;28mself\u001b[39m\u001b[38;5;241m.\u001b[39mdata_len \u001b[38;5;241m=\u001b[39m \u001b[38;5;28mlen\u001b[39m(column_data)\n\u001b[1;32m      5\u001b[0m \u001b[38;5;28mself\u001b[39m\u001b[38;5;241m.\u001b[39mparams  \u001b[38;5;241m=\u001b[39m BoxPlot\u001b[38;5;241m.\u001b[39mcalculate_boxplot_params(column_data)\n\u001b[0;32m----> 6\u001b[0m \u001b[38;5;28;43msuper\u001b[39;49m\u001b[43m(\u001b[49m\u001b[43m)\u001b[49m\u001b[38;5;241;43m.\u001b[39;49m\u001b[38;5;21;43m__init__\u001b[39;49m\u001b[43m(\u001b[49m\u001b[43mcolumn_data\u001b[49m\u001b[43m)\u001b[49m\n",
      "\u001b[0;31mTypeError\u001b[0m: Viz.__init__() missing 1 required positional argument: 'y'"
     ]
    }
   ],
   "source": [
    "box_obj = BoxPlot(housing[\"HouseAge\"])"
   ]
  },
  {
   "cell_type": "code",
   "execution_count": 16,
   "id": "fdca53d7-0de8-4d0c-96c7-d0ab7d942ee9",
   "metadata": {},
   "outputs": [
    {
     "ename": "NameError",
     "evalue": "name 'box_obj' is not defined",
     "output_type": "error",
     "traceback": [
      "\u001b[0;31m---------------------------------------------------------------------------\u001b[0m",
      "\u001b[0;31mNameError\u001b[0m                                 Traceback (most recent call last)",
      "Cell \u001b[0;32mIn[16], line 1\u001b[0m\n\u001b[0;32m----> 1\u001b[0m \u001b[43mbox_obj\u001b[49m\u001b[38;5;241m.\u001b[39mplt()\n",
      "\u001b[0;31mNameError\u001b[0m: name 'box_obj' is not defined"
     ]
    }
   ],
   "source": [
    "box_obj.plt()"
   ]
  },
  {
   "cell_type": "code",
   "execution_count": 17,
   "id": "2a98c5de-fc9d-4818-bd9c-907861ad6650",
   "metadata": {},
   "outputs": [
    {
     "ename": "NameError",
     "evalue": "name 'box_obj' is not defined",
     "output_type": "error",
     "traceback": [
      "\u001b[0;31m---------------------------------------------------------------------------\u001b[0m",
      "\u001b[0;31mNameError\u001b[0m                                 Traceback (most recent call last)",
      "Cell \u001b[0;32mIn[17], line 1\u001b[0m\n\u001b[0;32m----> 1\u001b[0m \u001b[43mbox_obj\u001b[49m\u001b[38;5;241m.\u001b[39mget_params()\n",
      "\u001b[0;31mNameError\u001b[0m: name 'box_obj' is not defined"
     ]
    }
   ],
   "source": [
    "box_obj.get_params()"
   ]
  },
  {
   "cell_type": "code",
   "execution_count": 18,
   "id": "47c6424f-4f3d-4d47-90d6-1f18963191d4",
   "metadata": {},
   "outputs": [
    {
     "ename": "NameError",
     "evalue": "name 'box_obj' is not defined",
     "output_type": "error",
     "traceback": [
      "\u001b[0;31m---------------------------------------------------------------------------\u001b[0m",
      "\u001b[0;31mNameError\u001b[0m                                 Traceback (most recent call last)",
      "Cell \u001b[0;32mIn[18], line 1\u001b[0m\n\u001b[0;32m----> 1\u001b[0m \u001b[43mbox_obj\u001b[49m\u001b[38;5;241m.\u001b[39mdata_type\n",
      "\u001b[0;31mNameError\u001b[0m: name 'box_obj' is not defined"
     ]
    }
   ],
   "source": [
    "box_obj.data_type"
   ]
  },
  {
   "cell_type": "code",
   "execution_count": 19,
   "id": "8da8d304-4fbd-4ee9-9721-adb9c1692239",
   "metadata": {},
   "outputs": [],
   "source": [
    "# plt.boxplot(housing[\"HouseAge\"], patch_artist=True, boxprops=dict(facecolor='lightblue')) \n",
    "# plt.xticks([1], [\"HouseAge\"], rotation=45) # Rotaciona o rótulo do eixo x\n",
    "# plt.show()"
   ]
  },
  {
   "cell_type": "markdown",
   "id": "c8825c34",
   "metadata": {},
   "source": [
    "# 2D"
   ]
  },
  {
   "cell_type": "markdown",
   "id": "92d629e1",
   "metadata": {},
   "source": [
    "## ScatterPlot"
   ]
  },
  {
   "cell_type": "code",
   "execution_count": 20,
   "id": "fa2de45e-c518-41ad-b8a4-4be0d7e57c6a",
   "metadata": {},
   "outputs": [],
   "source": [
    "from scipy.stats import pearsonr   \n",
    "\n",
    "class Scatter(Viz):\n",
    "\n",
    "    def __init__(self, x,y):\n",
    "        # self.data_len = len(column_data)\n",
    "        # self.frequency, self.bins = np.histogram(column_data, bins=10, range=[0, column_data.max()], density=False)\n",
    "        self.x, self.y = x, y \n",
    "        super().__init__(x, y)\n",
    "\n",
    "    def _compute_feature(self):\n",
    "        \"\"\"Calculates entropy\"\"\"\n",
    "        # TODO timeit \n",
    "        corr = pearsonr(self.x, self.y)\n",
    "        return corr\n",
    "\n",
    "    def get_params(self):\n",
    "        # return self.feature, self.data_len, self.data_freq\n",
    "        return {\"feature\": self.feature, \"params\": None}\n",
    "\n",
    "    def plt(self):\n",
    "        ## Printar linha y com a distribuição\n",
    "        plt.scatter(self.x, self.y)\n",
    "                "
   ]
  },
  {
   "cell_type": "code",
   "execution_count": 21,
   "id": "ab5082bc",
   "metadata": {},
   "outputs": [],
   "source": [
    "obj = Scatter(housing[\"HouseAge\"],housing[\"MedInc\"])"
   ]
  },
  {
   "cell_type": "code",
   "execution_count": 22,
   "id": "fc43958c",
   "metadata": {},
   "outputs": [
    {
     "data": {
      "text/plain": [
       "{'feature': PearsonRResult(statistic=np.float64(-0.11903398993785667), pvalue=np.float64(5.185138325252411e-66)),\n",
       " 'params': None}"
      ]
     },
     "execution_count": 22,
     "metadata": {},
     "output_type": "execute_result"
    }
   ],
   "source": [
    "obj.get_params()"
   ]
  },
  {
   "cell_type": "code",
   "execution_count": 148,
   "id": "c5daed92",
   "metadata": {},
   "outputs": [
    {
     "data": {
      "image/png": "[encoded data removed]",
      "text/plain": [
       "<Figure size 640x480 with 1 Axes>"
      ]
     },
     "metadata": {},
     "output_type": "display_data"
    }
   ],
   "source": [
    "obj.plt()"
   ]
  }
 ],
 "metadata": {
  "kernelspec": {
   "display_name": "Python 3 (ipykernel)",
   "language": "python",
   "name": "python3"
  },
  "language_info": {
   "codemirror_mode": {
    "name": "ipython",
    "version": 3
   },
   "file_extension": ".py",
   "mimetype": "text/x-python",
   "name": "python",
   "nbconvert_exporter": "python",
   "pygments_lexer": "ipython3",
   "version": "3.10.12"
  }
 },
 "nbformat": 4,
 "nbformat_minor": 5
}
